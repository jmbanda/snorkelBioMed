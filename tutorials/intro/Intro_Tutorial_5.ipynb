{
 "cells": [
  {
   "cell_type": "markdown",
   "metadata": {},
   "source": [
    "# Intro. to Snorkel: Extracting Spouse Relations from the News"
   ]
  },
  {
   "cell_type": "markdown",
   "metadata": {},
   "source": [
    "## Part V: Evaluating the Model on the Test Set"
   ]
  },
  {
   "cell_type": "markdown",
   "metadata": {},
   "source": [
    "In this final part of the tutorial, we will reload the model developed in Part IV and test it on the test `CandidateSet`."
   ]
  },
  {
   "cell_type": "code",
   "execution_count": 1,
   "metadata": {
    "collapsed": false
   },
   "outputs": [
    {
     "name": "stderr",
     "output_type": "stream",
     "text": [
      "/Users/juanbanda/anaconda/lib/python2.7/site-packages/matplotlib/font_manager.py:273: UserWarning: Matplotlib is building the font cache using fc-list. This may take a moment.\n",
      "  warnings.warn('Matplotlib is building the font cache using fc-list. This may take a moment.')\n"
     ]
    }
   ],
   "source": [
    "%load_ext autoreload\n",
    "%autoreload 2\n",
    "%matplotlib inline\n",
    "import os\n",
    "\n",
    "# TO USE A DATABASE OTHER THAN SQLITE, USE THIS LINE\n",
    "# Note that this is necessary for parallel execution amongst other things...\n",
    "# os.environ['SNORKELDB'] = 'postgres:///snorkel-intro'\n",
    "\n",
    "import numpy as np\n",
    "from snorkel import SnorkelSession\n",
    "session = SnorkelSession()"
   ]
  },
  {
   "cell_type": "markdown",
   "metadata": {},
   "source": [
    "We repeat our definition of the `Spouse` `Candidate` subclass, and load the test set:"
   ]
  },
  {
   "cell_type": "code",
   "execution_count": 2,
   "metadata": {
    "collapsed": false
   },
   "outputs": [],
   "source": [
    "from snorkel.models import candidate_subclass\n",
    "\n",
    "Spouse = candidate_subclass('Spouse', ['person1', 'person2'])"
   ]
  },
  {
   "cell_type": "markdown",
   "metadata": {},
   "source": [
    "## Automatically Creating Features\n",
    "We also generate features for the test set; note that we specify `create_new_keyset=False` to use the features from the training set.  For further details see _Intro Tutorial 4_."
   ]
  },
  {
   "cell_type": "code",
   "execution_count": 3,
   "metadata": {
    "collapsed": false
   },
   "outputs": [
    {
     "name": "stdout",
     "output_type": "stream",
     "text": [
      "Clearing existing...\n",
      "Running UDF...\n",
      "[========================================] 100%\n",
      "\n",
      "CPU times: user 46.8 s, sys: 720 ms, total: 47.6 s\n",
      "Wall time: 53.4 s\n"
     ]
    }
   ],
   "source": [
    "from snorkel.annotations import FeatureAnnotator\n",
    "\n",
    "featurizer   = FeatureAnnotator()\n",
    "%time F_test = featurizer.apply_existing(split=2)"
   ]
  },
  {
   "cell_type": "markdown",
   "metadata": {},
   "source": [
    "If we've already computed the features, again we can just use the below step:"
   ]
  },
  {
   "cell_type": "code",
   "execution_count": 4,
   "metadata": {
    "collapsed": false
   },
   "outputs": [
    {
     "data": {
      "text/plain": [
       "<279x119615 sparse matrix of type '<type 'numpy.float64'>'\n",
       "\twith 8079 stored elements in Compressed Sparse Row format>"
      ]
     },
     "execution_count": 4,
     "metadata": {},
     "output_type": "execute_result"
    }
   ],
   "source": [
    "F_test = featurizer.load_matrix(session, split=2)\n",
    "F_test"
   ]
  },
  {
   "cell_type": "markdown",
   "metadata": {},
   "source": [
    "## Reloading the Discriminative Model"
   ]
  },
  {
   "cell_type": "code",
   "execution_count": 5,
   "metadata": {
    "collapsed": false
   },
   "outputs": [
    {
     "name": "stderr",
     "output_type": "stream",
     "text": [
      "/Users/juanbanda/anaconda/lib/python2.7/site-packages/matplotlib/__init__.py:1357: UserWarning:  This call to matplotlib.use() has no effect\n",
      "because the backend has already been chosen;\n",
      "matplotlib.use() must be called *before* pylab, matplotlib.pyplot,\n",
      "or matplotlib.backends is imported for the first time.\n",
      "\n",
      "  warnings.warn(_use_error_msg)\n"
     ]
    },
    {
     "name": "stdout",
     "output_type": "stream",
     "text": [
      "[LR] Loaded model <SpouseLR>\n"
     ]
    }
   ],
   "source": [
    "from snorkel.learning import LogisticRegression\n",
    "\n",
    "disc_model = LogisticRegression(save_file='SpouseLR')"
   ]
  },
  {
   "cell_type": "markdown",
   "metadata": {},
   "source": [
    "## Evaluating on the Test `CandidateSet`"
   ]
  },
  {
   "cell_type": "markdown",
   "metadata": {},
   "source": [
    "First, we load the test set labels and gold candidates we made in Part III."
   ]
  },
  {
   "cell_type": "code",
   "execution_count": 6,
   "metadata": {
    "collapsed": true
   },
   "outputs": [],
   "source": [
    "from snorkel.annotations import load_gold_labels\n",
    "L_gold_test = load_gold_labels(session, annotator_name='gold', split=2)"
   ]
  },
  {
   "cell_type": "code",
   "execution_count": 7,
   "metadata": {
    "collapsed": false
   },
   "outputs": [
    {
     "name": "stdout",
     "output_type": "stream",
     "text": [
      "========================================\n",
      "Scores (Un-adjusted)\n",
      "========================================\n",
      "Pos. class accuracy: 1.0\n",
      "Neg. class accuracy: 0.0\n",
      "Precision            0.0251\n",
      "Recall               1.0\n",
      "F1                   0.049\n",
      "----------------------------------------\n",
      "TP: 7 | FP: 272 | TN: 0 | FN: 0\n",
      "========================================\n",
      "\n"
     ]
    }
   ],
   "source": [
    "tp, fp, tn, fn = disc_model.score(session, F_test, L_gold_test)"
   ]
  },
  {
   "cell_type": "markdown",
   "metadata": {},
   "source": [
    "## Viewing Examples\n",
    "We can also view the results on the test `CandidateSet`,  You can view the true positives, false positives, true negatives, and false negatives using the `Viewer`."
   ]
  },
  {
   "cell_type": "code",
   "execution_count": 14,
   "metadata": {
    "collapsed": false
   },
   "outputs": [
    {
     "data": {
      "application/javascript": [
       "require.undef('viewer');\n",
       "\n",
       "// NOTE: all elements should be selected using this.$el.find to avoid collisions with other Viewers\n",
       "\n",
       "define('viewer', [\"jupyter-js-widgets\"], function(widgets) {\n",
       "    var ViewerView = widgets.DOMWidgetView.extend({\n",
       "        render: function() {\n",
       "            this.cids   = this.model.get('cids');\n",
       "            this.nPages = this.cids.length;\n",
       "            this.pid  = 0;\n",
       "            this.cxid = 0;\n",
       "            this.cid  = 0;\n",
       "\n",
       "            // Insert the html payload\n",
       "            this.$el.append(this.model.get('html'));\n",
       "\n",
       "            // Initialize all labels from previous sessions\n",
       "            this.labels = this.deserializeDict(this.model.get('_labels_serialized'));\n",
       "            for (var i=0; i < this.nPages; i++) {\n",
       "                this.pid = i;\n",
       "                for (var j=0; j < this.cids[i].length; j++) {\n",
       "                    this.cxid = j;\n",
       "                    for (var k=0; k < this.cids[i][j].length; k++) {\n",
       "                        this.cid = k;\n",
       "                        if (this.cids[i][j][k] in this.labels) {\n",
       "                            this.markCurrentCandidate(false);\n",
       "                        }\n",
       "                    }\n",
       "                }\n",
       "            }\n",
       "            this.pid  = 0;\n",
       "            this.cxid = 0;\n",
       "            this.cid  = 0;\n",
       "\n",
       "            // Enable button functionality for navigation\n",
       "            var that = this;\n",
       "            this.$el.find(\"#next-cand\").click(function() {\n",
       "                that.switchCandidate(1);\n",
       "            });\n",
       "            this.$el.find(\"#prev-cand\").click(function() {\n",
       "                that.switchCandidate(-1);\n",
       "            });\n",
       "            this.$el.find(\"#next-context\").click(function() {\n",
       "                that.switchContext(1);\n",
       "            });\n",
       "            this.$el.find(\"#prev-context\").click(function() {\n",
       "                that.switchContext(-1);\n",
       "            });\n",
       "            this.$el.find(\"#next-page\").click(function() {\n",
       "                that.switchPage(1);\n",
       "            });\n",
       "            this.$el.find(\"#prev-page\").click(function() {\n",
       "                that.switchPage(-1);\n",
       "            });\n",
       "            this.$el.find(\"#label-true\").click(function() {\n",
       "                that.labelCandidate(true, true);\n",
       "            });\n",
       "            this.$el.find(\"#label-false\").click(function() {\n",
       "                that.labelCandidate(false, true);\n",
       "            });\n",
       "\n",
       "            // Arrow key functionality\n",
       "            this.$el.keydown(function(e) {\n",
       "                switch(e.which) {\n",
       "                    case 74: // j\n",
       "                    that.switchCandidate(-1);\n",
       "                    break;\n",
       "\n",
       "                    case 73: // i\n",
       "                    that.switchPage(-1);\n",
       "                    break;\n",
       "\n",
       "                    case 76: // l\n",
       "                    that.switchCandidate(1);\n",
       "                    break;\n",
       "\n",
       "                    case 75: // k\n",
       "                    that.switchPage(1);\n",
       "                    break;\n",
       "\n",
       "                    case 84: // t\n",
       "                    that.labelCandidate(true, true);\n",
       "                    break;\n",
       "\n",
       "                    case 70: // f\n",
       "                    that.labelCandidate(false, true);\n",
       "                    break;\n",
       "                }\n",
       "            });\n",
       "\n",
       "            // Show the first page and highlight the first candidate\n",
       "            this.$el.find(\"#viewer-page-0\").show();\n",
       "            this.switchCandidate(0);\n",
       "        },\n",
       "\n",
       "        // Get candidate selector for currently selected candidate, escaping id properly\n",
       "        getCandidate: function() {\n",
       "            return this.$el.find(\".\"+this.cids[this.pid][this.cxid][this.cid]);\n",
       "        },  \n",
       "\n",
       "        // Color the candidate correctly according to registered label, as well as set highlighting\n",
       "        markCurrentCandidate: function(highlight) {\n",
       "            var cid  = this.cids[this.pid][this.cxid][this.cid];\n",
       "            var tags = this.$el.find(\".\"+cid);\n",
       "\n",
       "            // Clear color classes\n",
       "            tags.removeClass(\"candidate-h\");\n",
       "            tags.removeClass(\"true-candidate\");\n",
       "            tags.removeClass(\"true-candidate-h\");\n",
       "            tags.removeClass(\"false-candidate\");\n",
       "            tags.removeClass(\"false-candidate-h\");\n",
       "            tags.removeClass(\"highlighted\");\n",
       "\n",
       "            if (highlight) {\n",
       "                if (cid in this.labels) {\n",
       "                    tags.addClass(String(this.labels[cid]) + \"-candidate-h\");\n",
       "                } else {\n",
       "                    tags.addClass(\"candidate-h\");\n",
       "                }\n",
       "            \n",
       "            // If un-highlighting, leave with first non-null coloring\n",
       "            } else {\n",
       "                var that = this;\n",
       "                tags.each(function() {\n",
       "                    var cids = $(this).attr('class').split(/\\s+/).map(function(item) {\n",
       "                        return parseInt(item);\n",
       "                    });\n",
       "                    cids.sort();\n",
       "                    for (var i in cids) {\n",
       "                        if (cids[i] in that.labels) {\n",
       "                            var label = that.labels[cids[i]];\n",
       "                            $(this).addClass(String(label) + \"-candidate\");\n",
       "                            $(this).removeClass(String(!label) + \"-candidate\");\n",
       "                            break;\n",
       "                        }\n",
       "                    }\n",
       "                });\n",
       "            }\n",
       "\n",
       "            // Extra highlighting css\n",
       "            if (highlight) {\n",
       "                tags.addClass(\"highlighted\");\n",
       "            }\n",
       "\n",
       "            // Classes for showing direction of relation\n",
       "            if (highlight) {\n",
       "                this.$el.find(\".\"+cid+\"-0\").addClass(\"left-candidate\");\n",
       "                this.$el.find(\".\"+cid+\"-1\").addClass(\"right-candidate\");\n",
       "            } else {\n",
       "                this.$el.find(\".\"+cid+\"-0\").removeClass(\"left-candidate\");\n",
       "                this.$el.find(\".\"+cid+\"-1\").removeClass(\"right-candidate\");\n",
       "            }\n",
       "        },\n",
       "\n",
       "        // Cycle through candidates and highlight, by increment inc\n",
       "        switchCandidate: function(inc) {\n",
       "            var N = this.cids[this.pid].length\n",
       "            var M = this.cids[this.pid][this.cxid].length;\n",
       "            if (N == 0 || M == 0) { return false; }\n",
       "\n",
       "            // Clear highlighting from previous candidate\n",
       "            if (inc != 0) {\n",
       "                this.markCurrentCandidate(false);\n",
       "\n",
       "                // Increment the cid counter\n",
       "\n",
       "                // Move to next context\n",
       "                if (this.cid + inc >= M) {\n",
       "                    while (this.cid + inc >= M) {\n",
       "                        \n",
       "                        // At last context on page, halt\n",
       "                        if (this.cxid == N - 1) {\n",
       "                            this.cid = M - 1;\n",
       "                            inc = 0;\n",
       "                            break;\n",
       "                        \n",
       "                        // Increment to next context\n",
       "                        } else {\n",
       "                            inc -= M - this.cid;\n",
       "                            this.cxid += 1;\n",
       "                            M = this.cids[this.pid][this.cxid].length;\n",
       "                            this.cid = 0;\n",
       "                        }\n",
       "                    }\n",
       "\n",
       "                // Move to previous context\n",
       "                } else if (this.cid + inc < 0) {\n",
       "                    while (this.cid + inc < 0) {\n",
       "                        \n",
       "                        // At first context on page, halt\n",
       "                        if (this.cxid == 0) {\n",
       "                            this.cid = 0;\n",
       "                            inc = 0;\n",
       "                            break;\n",
       "                        \n",
       "                        // Increment to previous context\n",
       "                        } else {\n",
       "                            inc += this.cid + 1;\n",
       "                            this.cxid -= 1;\n",
       "                            M = this.cids[this.pid][this.cxid].length;\n",
       "                            this.cid = M - 1;\n",
       "                        }\n",
       "                    }\n",
       "                }\n",
       "\n",
       "                // Move within current context\n",
       "                this.cid += inc;\n",
       "            }\n",
       "            this.markCurrentCandidate(true);\n",
       "\n",
       "            // Push this new cid to the model\n",
       "            this.model.set('_selected_cid', this.cids[this.pid][this.cxid][this.cid]);\n",
       "            this.touch();\n",
       "        },\n",
       "\n",
       "        // Switch through contexts\n",
       "        switchContext: function(inc) {\n",
       "            this.markCurrentCandidate(false);\n",
       "\n",
       "            // Iterate context on this page\n",
       "            var M = this.cids[this.pid].length;\n",
       "            if (this.cxid + inc < 0) {\n",
       "                this.cxid = 0;\n",
       "            } else if (this.cxid + inc >= M) {\n",
       "                this.cxid = M - 1;\n",
       "            } else {\n",
       "                this.cxid += inc;\n",
       "            }\n",
       "\n",
       "            // Reset cid and set to first candidate\n",
       "            this.cid = 0;\n",
       "            this.switchCandidate(0);\n",
       "        },\n",
       "\n",
       "        // Switch through pages\n",
       "        switchPage: function(inc) {\n",
       "            this.markCurrentCandidate(false);\n",
       "            this.$el.find(\".viewer-page\").hide();\n",
       "            if (this.pid + inc < 0) {\n",
       "                this.pid = 0;\n",
       "            } else if (this.pid + inc > this.nPages - 1) {\n",
       "                this.pid = this.nPages - 1;\n",
       "            } else {\n",
       "                this.pid += inc;\n",
       "            }\n",
       "            this.$el.find(\"#viewer-page-\"+this.pid).show();\n",
       "\n",
       "            // Show pagination\n",
       "            this.$el.find(\"#page\").html(this.pid);\n",
       "\n",
       "            // Reset cid and set to first candidate\n",
       "            this.cid = 0;\n",
       "            this.cxid = 0;\n",
       "            this.switchCandidate(0);\n",
       "        },\n",
       "\n",
       "        // Label currently-selected candidate\n",
       "        labelCandidate: function(label, highlighted) {\n",
       "            var c    = this.getCandidate();\n",
       "            var cid  = this.cids[this.pid][this.cxid][this.cid];\n",
       "            var cl   = String(label) + \"-candidate\";\n",
       "            var clh  = String(label) + \"-candidate-h\";\n",
       "            var cln  = String(!label) + \"-candidate\";\n",
       "            var clnh = String(!label) + \"-candidate-h\";\n",
       "\n",
       "            // Toggle label highlighting\n",
       "            if (c.hasClass(cl) || c.hasClass(clh)) {\n",
       "                c.removeClass(cl);\n",
       "                c.removeClass(clh);\n",
       "                if (highlighted) {\n",
       "                    c.addClass(\"candidate-h\");\n",
       "                }\n",
       "                this.labels[cid] = null;\n",
       "                this.send({event: 'delete_label', cid: cid});\n",
       "            } else {\n",
       "                c.removeClass(cln);\n",
       "                c.removeClass(clnh);\n",
       "                if (highlighted) {\n",
       "                    c.addClass(clh);\n",
       "                } else {\n",
       "                    c.addClass(cl);\n",
       "                }\n",
       "                this.labels[cid] = label;\n",
       "                this.send({event: 'set_label', cid: cid, value: label});\n",
       "            }\n",
       "\n",
       "            // Set the label and pass back to the model\n",
       "            this.model.set('_labels_serialized', this.serializeDict(this.labels));\n",
       "            this.touch();\n",
       "        },\n",
       "\n",
       "        // Serialization of hash maps, because traitlets Dict doesn't seem to work...\n",
       "        serializeDict: function(d) {\n",
       "            var s = [];\n",
       "            for (var key in d) {\n",
       "                s.push(key+\"~~\"+d[key]);\n",
       "            }\n",
       "            return s.join();\n",
       "        },\n",
       "\n",
       "        // Deserialization of hash maps\n",
       "        deserializeDict: function(s) {\n",
       "            var d = {};\n",
       "            var entries = s.split(/,/);\n",
       "            var kv;\n",
       "            for (var i in entries) {\n",
       "                kv = entries[i].split(/~~/);\n",
       "                if (kv[1] == \"true\") {\n",
       "                    d[kv[0]] = true;\n",
       "                } else if (kv[1] == \"false\") {\n",
       "                    d[kv[0]] = false;\n",
       "                }\n",
       "            }\n",
       "            return d;\n",
       "        },\n",
       "    });\n",
       "\n",
       "    return {\n",
       "        ViewerView: ViewerView\n",
       "    };\n",
       "});\n"
      ],
      "text/plain": [
       "<IPython.core.display.Javascript object>"
      ]
     },
     "metadata": {},
     "output_type": "display_data"
    }
   ],
   "source": [
    "from snorkel.viewer import SentenceNgramViewer\n",
    "\n",
    "# NOTE: This if-then statement is only to avoid opening the viewer during automated testing of this notebook\n",
    "# You should ignore this!\n",
    "import os\n",
    "if 'CI' not in os.environ:\n",
    "    sv = SentenceNgramViewer(fp, session, annotator_name=\"Tutorial Part V User\")\n",
    "else:\n",
    "    sv = None"
   ]
  },
  {
   "cell_type": "code",
   "execution_count": 25,
   "metadata": {
    "collapsed": false
   },
   "outputs": [
    {
     "name": "stdout",
     "output_type": "stream",
     "text": [
      "set([Spouse(Span(\"John Stamos\", sentence=29553, chars=[10,20], words=[4,5]), Span(\"Fox\", sentence=29553, chars=[4,6], words=[2,2])), Spouse(Span(\"Hrehaan\", sentence=28979, chars=[59,65], words=[11,11]), Span(\"Hrithik\", sentence=28979, chars=[0,6], words=[0,0])), Spouse(Span(\"Yennai Arindhaal\", sentence=29221, chars=[8,23], words=[2,3]), Span(\"Sivakarthikeyan\", sentence=29221, chars=[67,81], words=[11,11])), Spouse(Span(\"David Ben-Gurion\", sentence=29682, chars=[153,168], words=[29,30]), Span(\"Kennedy\", sentence=29682, chars=[242,248], words=[44,44])), Spouse(Span(\"Gordon\", sentence=29064, chars=[150,155], words=[29,29]), Span(\"Dale Arden\", sentence=29064, chars=[161,170], words=[31,32])), Spouse(Span(\"Lawrence Hundersmarck\", sentence=28858, chars=[384,404], words=[73,74]), Span(\"Alexander Twilight\", sentence=28858, chars=[554,571], words=[103,104])), Spouse(Span(\"Simon van Kempen\", sentence=29434, chars=[66,81], words=[14,16]), Span(\"Alex McCord\", sentence=29434, chars=[50,60], words=[11,12])), Spouse(Span(\"Aamer\", sentence=29975, chars=[67,71], words=[14,14]), Span(\"David Davis\", sentence=29975, chars=[21,31], words=[5,6])), Spouse(Span(\"Eric Berridge\", sentence=29315, chars=[67,79], words=[14,15]), Span(\"Bluewolf\", sentence=29315, chars=[87,94], words=[19,19])), Spouse(Span(\"Harrison\", sentence=29994, chars=[161,168], words=[31,31]), Span(\"Steve Kerr\", sentence=29994, chars=[44,53], words=[9,10])), Spouse(Span(\"Donald Trump\", sentence=28941, chars=[218,229], words=[47,48]), Span(\"Fiorina\", sentence=28941, chars=[64,70], words=[17,17])), Spouse(Span(\"Schumer\", sentence=30082, chars=[143,149], words=[25,25]), Span(\"Barack Obama\", sentence=30082, chars=[90,101], words=[16,17])), Spouse(Span(\"Barack) Obama\", sentence=29967, chars=[108,120], words=[23,25]), Span(\"Aamer\", sentence=29967, chars=[45,49], words=[11,11])), Spouse(Span(\"Monroe\", sentence=29675, chars=[31,36], words=[5,5]), Span(\"Kennedy\", sentence=29675, chars=[0,6], words=[0,0])), Spouse(Span(\"PHILIP BROWN\", sentence=28832, chars=[0,11], words=[0,1]), Span(\"Shahadat Hossain\", sentence=28832, chars=[39,54], words=[7,8])), Spouse(Span(\"Johnson\", sentence=29670, chars=[210,216], words=[35,35]), Span(\"Lyndon Johnson\", sentence=29670, chars=[15,28], words=[2,3])), Spouse(Span(\"Gordon\", sentence=29064, chars=[150,155], words=[29,29]), Span(\"Hans Zarkov\", sentence=29064, chars=[34,44], words=[7,8])), Spouse(Span(\"Simon\", sentence=29455, chars=[252,256], words=[53,53]), Span(\"Alex\", sentence=29455, chars=[74,77], words=[18,18])), Spouse(Span(\"Luther King Jr.\", sentence=29724, chars=[169,183], words=[32,34]), Span(\"Martin Luther King\", sentence=29724, chars=[162,179], words=[31,33])), Spouse(Span(\"George W. Bush\", sentence=28953, chars=[90,103], words=[20,22]), Span(\"Trump\", sentence=28953, chars=[13,17], words=[5,5])), Spouse(Span(\"Lawrence Hundersmarck\", sentence=28858, chars=[384,404], words=[73,74]), Span(\"Lawrence Hundersmarck\", sentence=28858, chars=[203,223], words=[36,37])), Spouse(Span(\"Alex\", sentence=29471, chars=[84,87], words=[19,19]), Span(\"Johan\", sentence=29471, chars=[129,133], words=[31,31])), Spouse(Span(\"Larry Scott\", sentence=29863, chars=[66,76], words=[12,13]), Span(\"Frank Zurek\", sentence=29863, chars=[50,60], words=[9,10])), Spouse(Span(\"Jill Zarin\", sentence=29436, chars=[87,96], words=[17,18]), Span(\"Kelly Bensimon\", sentence=29436, chars=[99,112], words=[20,21])), Spouse(Span(\"Turnbull\", sentence=29029, chars=[142,149], words=[30,30]), Span(\"Kevin Andrews\", sentence=29029, chars=[22,34], words=[5,6])), Spouse(Span(\"Trump\", sentence=28949, chars=[137,141], words=[26,26]), Span(\"Columba Bush\", sentence=28949, chars=[192,203], words=[37,38])), Spouse(Span(\"Collins Piper\", sentence=29700, chars=[16,28], words=[4,5]), Span(\"JFK Conspir\", sentence=29700, chars=[77,87], words=[14,15])), Spouse(Span(\"David Jordan\", sentence=28892, chars=[0,11], words=[0,1]), Span(\"Grayson\", sentence=28892, chars=[177,183], words=[32,32])), Spouse(Span(\"Johnson\", sentence=29648, chars=[40,46], words=[6,6]), Span(\"Kennedy\", sentence=29648, chars=[4,10], words=[1,1])), Spouse(Span(\"Alexander Twilight\", sentence=28858, chars=[554,571], words=[103,104]), Span(\"Lawrence Hundersmarck\", sentence=28858, chars=[203,223], words=[36,37])), Spouse(Span(\"Cuomo\", sentence=28889, chars=[70,74], words=[15,15]), Span(\"Bill de Blasio\", sentence=28889, chars=[86,99], words=[18,20])), Spouse(Span(\"Carlos Marcello\", sentence=29647, chars=[101,115], words=[18,19]), Span(\"Johnson\", sentence=29647, chars=[21,27], words=[4,4])), Spouse(Span(\"Jack Pack\", sentence=29632, chars=[66,74], words=[15,16]), Span(\"Ian West/PA\", sentence=29632, chars=[36,46], words=[8,9])), Spouse(Span(\"Yennai Arindhaal\", sentence=29221, chars=[8,23], words=[2,3]), Span(\"Kakki Sattai\", sentence=29221, chars=[85,96], words=[13,14])), Spouse(Span(\"Alexia\", sentence=28965, chars=[100,105], words=[20,20]), Span(\"Luciana\", sentence=28965, chars=[168,174], words=[39,39])), Spouse(Span(\"Gigi\", sentence=29555, chars=[77,80], words=[15,15]), Span(\"David Krumholtz-in-drag\", sentence=29555, chars=[45,67], words=[11,12])), Spouse(Span(\"Lansky\", sentence=29645, chars=[101,106], words=[18,18]), Span(\"John F. Kennedy\", sentence=29645, chars=[12,26], words=[1,3])), Spouse(Span(\"Ashton Carter\", sentence=29988, chars=[154,166], words=[32,33]), Span(\"Aamer\", sentence=29988, chars=[96,100], words=[21,21])), Spouse(Span(\"Cohen\", sentence=29675, chars=[48,52], words=[9,9]), Span(\"Kennedy\", sentence=29675, chars=[0,6], words=[0,0])), Spouse(Span(\"Steve Jones\", sentence=29633, chars=[78,88], words=[20,21]), Span(\"Jack Pack\", sentence=29633, chars=[7,15], words=[3,4])), Spouse(Span(\"Obama\", sentence=29984, chars=[50,54], words=[12,12]), Span(\"Aamer\", sentence=29984, chars=[29,33], words=[7,7])), Spouse(Span(\"John Kennedy\", sentence=29658, chars=[17,28], words=[4,5]), Span(\"Rob\", sentence=29658, chars=[46,48], words=[9,9])), Spouse(Span(\"Stella\", sentence=28965, chars=[144,149], words=[33,33]), Span(\"Alexia\", sentence=28965, chars=[100,105], words=[20,20])), Spouse(Span(\"Donald Trump\", sentence=28941, chars=[218,229], words=[47,48]), Span(\"Fiorina\", sentence=28941, chars=[114,120], words=[28,28])), Spouse(Span(\"Barrack Obama\", sentence=29170, chars=[436,448], words=[91,92]), Span(\"Obama\", sentence=29170, chars=[372,376], words=[77,77])), Spouse(Span(\"Meegan\", sentence=29107, chars=[0,5], words=[0,0]), Span(\"Andre\", sentence=29107, chars=[147,151], words=[25,25])), Spouse(Span(\"Sendhil Ramamurthy\", sentence=29543, chars=[151,168], words=[33,34]), Span(\"Masi Oka\", sentence=29543, chars=[139,146], words=[30,31])), Spouse(Span(\"David Jordan\", sentence=28892, chars=[0,11], words=[0,1]), Span(\"Kim Davis\", sentence=28892, chars=[164,172], words=[29,30])), Spouse(Span(\"Isabella\", sentence=28965, chars=[112,119], words=[24,24]), Span(\"Stella\", sentence=28965, chars=[144,149], words=[33,33])), Spouse(Span(\"Alexander Twilight\", sentence=28875, chars=[47,64], words=[7,8]), Span(\"Samuel Read Hall\", sentence=28875, chars=[197,212], words=[30,32])), Spouse(Span(\"Cohen\", sentence=29675, chars=[48,52], words=[9,9]), Span(\"JFK\", sentence=29675, chars=[159,161], words=[31,31])), Spouse(Span(\"JFK\", sentence=29682, chars=[11,13], words=[2,2]), Span(\"David Ben-Gurion\", sentence=29682, chars=[153,168], words=[29,30])), Spouse(Span(\"Tibor Rosenbaum\", sentence=29649, chars=[200,214], words=[34,35]), Span(\"Baker\", sentence=29649, chars=[0,4], words=[0,0])), Spouse(Span(\"Bush\", sentence=28953, chars=[38,41], words=[10,10]), Span(\"Trump\", sentence=28953, chars=[13,17], words=[5,5])), Spouse(Span(\"Trump\", sentence=28949, chars=[46,50], words=[12,12]), Span(\"Trump\", sentence=28949, chars=[17,21], words=[5,5])), Spouse(Span(\"Dale Arden\", sentence=29064, chars=[161,170], words=[31,32]), Span(\"Hans Zarkov\", sentence=29064, chars=[34,44], words=[7,8])), Spouse(Span(\"Meyer Lansky\", sentence=29672, chars=[231,242], words=[42,43]), Span(\"Hyman Lamer\", sentence=29672, chars=[264,274], words=[47,48])), Spouse(Span(\"JFK\", sentence=29664, chars=[154,156], words=[28,28]), Span(\"John F. Kennedy\", sentence=29664, chars=[64,78], words=[11,13])), Spouse(Span(\"Tony Ayres\", sentence=29145, chars=[18,27], words=[4,5]), Span(\"Stapleton\", sentence=29145, chars=[120,128], words=[24,24])), Spouse(Span(\"Bravo\", sentence=29437, chars=[107,111], words=[25,25]), Span(\"Simon\", sentence=29437, chars=[45,49], words=[14,14])), Spouse(Span(\"Davis\", sentence=28898, chars=[193,197], words=[36,36]), Span(\"Davis\", sentence=28898, chars=[7,11], words=[4,4])), Spouse(Span(\"LANSKY\", sentence=29669, chars=[24,29], words=[7,7]), Span(\"John F. Kennedy\", sentence=29669, chars=[41,55], words=[9,11])), Spouse(Span(\"JFK\", sentence=29682, chars=[11,13], words=[2,2]), Span(\"Kennedy\", sentence=29682, chars=[242,248], words=[44,44])), Spouse(Span(\"Gibson\", sentence=28858, chars=[35,40], words=[11,11]), Span(\"Alexander Twilight\", sentence=28858, chars=[554,571], words=[103,104])), Spouse(Span(\"Ian West/PA\", sentence=29624, chars=[39,49], words=[9,10]), Span(\"Warwick Davis\", sentence=29624, chars=[3,15], words=[2,3])), Spouse(Span(\"Ed Levinson\", sentence=29649, chars=[89,99], words=[16,17]), Span(\"Tibor Rosenbaum\", sentence=29649, chars=[200,214], words=[34,35])), Spouse(Span(\"Max vonSydow\", sentence=29087, chars=[192,203], words=[37,38]), Span(\"Ming\", sentence=29087, chars=[172,175], words=[33,33])), Spouse(Span(\"Dino De Laurentiis\", sentence=29066, chars=[27,44], words=[8,10]), Span(\"Buster Crabbe\", sentence=29066, chars=[147,159], words=[29,30])), Spouse(Span(\"Krissa\", sentence=29284, chars=[0,5], words=[0,0]), Span(\"Marlette\", sentence=29284, chars=[31,38], words=[6,6])), Spouse(Span(\"Columba\", sentence=28950, chars=[37,43], words=[8,8]), Span(\"Trump\", sentence=28950, chars=[0,4], words=[0,0])), Spouse(Span(\"Sheena Bora\", sentence=29919, chars=[215,225], words=[40,41]), Span(\"Khanna\", sentence=29919, chars=[56,61], words=[10,10])), Spouse(Span(\"Jitin Ram Manjhi\", sentence=29914, chars=[250,265], words=[50,52]), Span(\"Ram Vilas Paswan\", sentence=29914, chars=[287,302], words=[56,58])), Spouse(Span(\"Cohen\", sentence=29679, chars=[46,50], words=[9,9]), Span(\"Kennedy\", sentence=29679, chars=[77,83], words=[15,15])), Spouse(Span(\"Srimanthudu\", sentence=29239, chars=[77,87], words=[19,19]), Span(\"Baradwaj Rangan\", sentence=29239, chars=[14,28], words=[5,6])), Spouse(Span(\"Haman\", sentence=29695, chars=[103,107], words=[19,19]), Span(\"Ben-Gurion\", sentence=29695, chars=[58,67], words=[11,11])), Spouse(Span(\"Columba Bush\", sentence=28949, chars=[192,203], words=[37,38]), Span(\"Trump\", sentence=28949, chars=[17,21], words=[5,5])), Spouse(Span(\"Samantha\", sentence=29624, chars=[30,37], words=[7,7]), Span(\"Ian West/PA\", sentence=29624, chars=[39,49], words=[9,10])), Spouse(Span(\"Lansky\", sentence=29644, chars=[125,130], words=[25,25]), Span(\"Kennedy Sr.\", sentence=29644, chars=[223,233], words=[43,44])), Spouse(Span(\"Hugo Gernsback\", sentence=29073, chars=[66,79], words=[13,14]), Span(\"Edgar Rice Burroughs\", sentence=29073, chars=[41,60], words=[9,11])), Spouse(Span(\"Xi Jinping\", sentence=30066, chars=[77,86], words=[15,16]), Span(\"Obama\", sentence=30066, chars=[126,130], words=[24,24])), Spouse(Span(\"Dino De Laurentiis\", sentence=29066, chars=[27,44], words=[8,10]), Span(\"Gordon\", sentence=29066, chars=[103,108], words=[22,22])), Spouse(Span(\"Lansky\", sentence=29647, chars=[58,63], words=[10,10]), Span(\"Johnson\", sentence=29647, chars=[21,27], words=[4,4])), Spouse(Span(\"Fiorina\", sentence=28941, chars=[114,120], words=[28,28]), Span(\"Donald Trump\", sentence=28941, chars=[81,92], words=[20,21])), Spouse(Span(\"Lansky\", sentence=29644, chars=[125,130], words=[25,25]), Span(\"Lansky\", sentence=29644, chars=[162,167], words=[33,33])), Spouse(Span(\"Ray Parker Jr.\", sentence=29109, chars=[91,104], words=[18,20]), Span(\"Peele\", sentence=29109, chars=[0,4], words=[0,0])), Spouse(Span(\"Stella\", sentence=28965, chars=[144,149], words=[33,33]), Span(\"Luciana\", sentence=28965, chars=[168,174], words=[39,39])), Spouse(Span(\"Megan McKenna\", sentence=29631, chars=[0,12], words=[0,1]), Span(\"Chloe Goodman\", sentence=29631, chars=[49,61], words=[9,10])), Spouse(Span(\"Ben-Gurion\", sentence=29683, chars=[113,122], words=[23,23]), Span(\"Kennedy\", sentence=29683, chars=[19,25], words=[4,4])), Spouse(Span(\"Lansky\", sentence=29649, chars=[60,65], words=[12,12]), Span(\"Tibor Rosenbaum\", sentence=29649, chars=[200,214], words=[34,35])), Spouse(Span(\"Kevin Drawbaugh\", sentence=30086, chars=[81,95], words=[18,19]), Span(\"Alistair Bell\", sentence=30086, chars=[17,29], words=[7,8])), Spouse(Span(\"Buster Crabbe\", sentence=29066, chars=[147,159], words=[29,30]), Span(\"Gordon\", sentence=29066, chars=[103,108], words=[22,22])), Spouse(Span(\"Isabella\", sentence=28965, chars=[112,119], words=[24,24]), Span(\"Alexia\", sentence=28965, chars=[100,105], words=[20,20])), Spouse(Span(\"Bush\", sentence=28953, chars=[38,41], words=[10,10]), Span(\"Bush\", sentence=28953, chars=[122,125], words=[27,27])), Spouse(Span(\"Bush\", sentence=28953, chars=[122,125], words=[27,27]), Span(\"George W. Bush\", sentence=28953, chars=[90,103], words=[20,22])), Spouse(Span(\"Lansky\", sentence=29649, chars=[60,65], words=[12,12]), Span(\"Baker\", sentence=29649, chars=[0,4], words=[0,0])), Spouse(Span(\"J. Edgar Hoover\", sentence=29661, chars=[71,85], words=[13,15]), Span(\"Kennedy\", sentence=29661, chars=[92,98], words=[17,17])), Spouse(Span(\"Hoover\", sentence=29664, chars=[3,8], words=[1,1]), Span(\"JFK\", sentence=29664, chars=[154,156], words=[28,28])), Spouse(Span(\"Sussanne Khan\", sentence=28972, chars=[32,44], words=[4,5]), Span(\"Arjun Rampal\", sentence=28972, chars=[125,136], words=[19,20])), Spouse(Span(\"Simon\", sentence=29435, chars=[27,31], words=[7,7]), Span(\"Alex\", sentence=29435, chars=[37,40], words=[9,9])), Spouse(Span(\"Bill Clinton\", sentence=30063, chars=[60,71], words=[14,15]), Span(\"Colbert\", sentence=30063, chars=[28,34], words=[8,8])), Spouse(Span(\"Sanjeev Khanna\", sentence=29919, chars=[167,180], words=[32,33]), Span(\"Khanna\", sentence=29919, chars=[56,61], words=[10,10])), Spouse(Span(\"Dawood\", sentence=29922, chars=[69,74], words=[11,11]), Span(\"Rajyavardhan Rathore\", sentence=29922, chars=[144,163], words=[26,27])), Spouse(Span(\"Ed Levinson\", sentence=29649, chars=[89,99], words=[16,17]), Span(\"Baker\", sentence=29649, chars=[0,4], words=[0,0])), Spouse(Span(\"Bush\", sentence=28953, chars=[38,41], words=[10,10]), Span(\"George W. Bush\", sentence=28953, chars=[90,103], words=[20,22])), Spouse(Span(\"Abbott\", sentence=29033, chars=[169,174], words=[37,37]), Span(\"Julia Gillard\", sentence=29033, chars=[106,118], words=[24,25])), Spouse(Span(\"Jack Pack\", sentence=29632, chars=[66,74], words=[15,16]), Span(\"Megan McKenna\", sentence=29632, chars=[3,15], words=[2,3])), Spouse(Span(\"Lansky\", sentence=29650, chars=[117,122], words=[21,21]), Span(\"Kennedy\", sentence=29650, chars=[38,44], words=[8,8])), Spouse(Span(\"Ajith\", sentence=29221, chars=[0,4], words=[0,0]), Span(\"Sivakarthikeyan\", sentence=29221, chars=[67,81], words=[11,11])), Spouse(Span(\"Max vonSydow\", sentence=29087, chars=[192,203], words=[37,38]), Span(\"Flash Gordon\", sentence=29087, chars=[58,69], words=[10,11])), Spouse(Span(\"Simon\", sentence=29455, chars=[252,256], words=[53,53]), Span(\"Alex McCord\", sentence=29455, chars=[18,28], words=[4,5])), Spouse(Span(\"Covelli\", sentence=28994, chars=[33,39], words=[6,6]), Span(\"Gliniewicz\", sentence=28994, chars=[0,9], words=[0,0])), Spouse(Span(\"Mike Huckabee\", sentence=28829, chars=[369,381], words=[64,65]), Span(\"Mike Huckabee\", sentence=28829, chars=[155,167], words=[27,28])), Spouse(Span(\"Alex McCord\", sentence=29455, chars=[18,28], words=[4,5]), Span(\"Alex\", sentence=29455, chars=[74,77], words=[18,18])), Spouse(Span(\"Ram Vilas Paswan\", sentence=29914, chars=[40,55], words=[8,10]), Span(\"Jitin Ram Manjhi\", sentence=29914, chars=[250,265], words=[50,52])), Spouse(Span(\"Danielle Armstrong\", sentence=29625, chars=[15,32], words=[5,6]), Span(\"Marco Falcone\", sentence=29625, chars=[38,50], words=[8,9])), Spouse(Span(\"Dawood\", sentence=29922, chars=[69,74], words=[11,11]), Span(\"Dawood Ibrahim\", sentence=29922, chars=[252,265], words=[43,44])), Spouse(Span(\"Donald Trump\", sentence=28941, chars=[218,229], words=[47,48]), Span(\"Donald Trump\", sentence=28941, chars=[81,92], words=[20,21])), Spouse(Span(\"Bush\", sentence=28953, chars=[122,125], words=[27,27]), Span(\"Trump\", sentence=28953, chars=[13,17], words=[5,5])), Spouse(Span(\"Frank\", sentence=29867, chars=[95,99], words=[26,26]), Span(\"Scott\", sentence=29867, chars=[120,124], words=[31,31])), Spouse(Span(\"Monroe\", sentence=29675, chars=[31,36], words=[5,5]), Span(\"Cohen\", sentence=29675, chars=[48,52], words=[9,9])), Spouse(Span(\"Trump\", sentence=28949, chars=[46,50], words=[12,12]), Span(\"Columba Bush\", sentence=28949, chars=[192,203], words=[37,38])), Spouse(Span(\"Jill Zarin\", sentence=29436, chars=[87,96], words=[17,18]), Span(\"Cindy Barshop\", sentence=29436, chars=[119,131], words=[24,25])), Spouse(Span(\"Michael Needham\", sentence=30138, chars=[0,14], words=[0,1]), Span(\"Boehner\", sentence=30138, chars=[94,100], words=[17,17])), Spouse(Span(\"Arjun\", sentence=28978, chars=[34,38], words=[6,6]), Span(\"Hrithik\", sentence=28978, chars=[81,87], words=[15,15])), Spouse(Span(\"Rob Portman\", sentence=30082, chars=[178,188], words=[31,32]), Span(\"Barack Obama\", sentence=30082, chars=[90,101], words=[16,17])), Spouse(Span(\"Simon\", sentence=29440, chars=[54,58], words=[13,13]), Span(\"Alex\", sentence=29440, chars=[45,48], words=[11,11])), Spouse(Span(\"Simon van Kempen\", sentence=29469, chars=[272,287], words=[50,52]), Span(\"Byron Bay\", sentence=29469, chars=[236,244], words=[41,42])), Spouse(Span(\"Sam J. Jones\", sentence=29087, chars=[72,83], words=[13,15]), Span(\"Flash Gordon\", sentence=29087, chars=[58,69], words=[10,11])), Spouse(Span(\"Kim Davis\", sentence=28892, chars=[164,172], words=[29,30]), Span(\"Grayson\", sentence=28892, chars=[177,183], words=[32,32])), Spouse(Span(\"Jeb Bush\", sentence=29247, chars=[117,124], words=[19,20]), Span(\"Rand Paul\", sentence=29247, chars=[130,138], words=[22,23])), Spouse(Span(\"Kennedy\", sentence=29675, chars=[0,6], words=[0,0]), Span(\"JFK\", sentence=29675, chars=[159,161], words=[31,31])), Spouse(Span(\"Kevin Drawbaugh\", sentence=30086, chars=[81,95], words=[18,19]), Span(\"Bill Rigby\", sentence=30086, chars=[101,110], words=[21,22])), Spouse(Span(\"Simon\", sentence=29471, chars=[93,97], words=[21,21]), Span(\"Johan\", sentence=29471, chars=[129,133], words=[31,31])), Spouse(Span(\"Castro\", sentence=29650, chars=[85,90], words=[15,15]), Span(\"Kennedy\", sentence=29650, chars=[38,44], words=[8,8])), Spouse(Span(\"Hyman Lamer\", sentence=29672, chars=[264,274], words=[47,48]), Span(\"Sam Giancana\", sentence=29672, chars=[61,72], words=[14,15])), Spouse(Span(\"Davis\", sentence=28895, chars=[73,77], words=[19,19]), Span(\"Roger Gannam\", sentence=28895, chars=[46,57], words=[13,14])), Spouse(Span(\"Ajith\", sentence=29221, chars=[0,4], words=[0,0]), Span(\"Kakki Sattai\", sentence=29221, chars=[85,96], words=[13,14])), Spouse(Span(\"Francois\", sentence=29471, chars=[111,118], words=[26,26]), Span(\"Simon\", sentence=29471, chars=[93,97], words=[21,21])), Spouse(Span(\"Simon\", sentence=29455, chars=[252,256], words=[53,53]), Span(\"Alex\", sentence=29455, chars=[211,214], words=[45,45])), Spouse(Span(\"Elliot Stevens\", sentence=29715, chars=[25,38], words=[7,8]), Span(\"Heschel\", sentence=29715, chars=[54,60], words=[11,11])), Spouse(Span(\"Jacob Kaimenyi\", sentence=29161, chars=[161,174], words=[29,30]), Span(\"Uhuru Kenyatta\", sentence=29161, chars=[24,37], words=[5,6])), Spouse(Span(\"Lansky\", sentence=29644, chars=[162,167], words=[33,33]), Span(\"Joseph P. Kennedy\", sentence=29644, chars=[37,53], words=[8,10])), Spouse(Span(\"Sam J. Jones\", sentence=29087, chars=[72,83], words=[13,15]), Span(\"Ming\", sentence=29087, chars=[172,175], words=[33,33])), Spouse(Span(\"Fiorina\", sentence=28941, chars=[114,120], words=[28,28]), Span(\"Fiorina\", sentence=28941, chars=[64,70], words=[17,17])), Spouse(Span(\"Simon van Kempen\", sentence=29469, chars=[272,287], words=[50,52]), Span(\"Adam van Kempen\", sentence=29469, chars=[189,203], words=[33,35])), Spouse(Span(\"Bhayani\", sentence=28981, chars=[26,32], words=[7,7]), Span(\"Sussanne Khan\", sentence=28981, chars=[48,60], words=[13,14])), Spouse(Span(\"Flash Gordon\", sentence=29087, chars=[58,69], words=[10,11]), Span(\"Ming\", sentence=29087, chars=[172,175], words=[33,33])), Spouse(Span(\"Ming\", sentence=29078, chars=[54,57], words=[9,9]), Span(\"Flash\", sentence=29078, chars=[98,102], words=[20,20])), Spouse(Span(\"Tom\", sentence=29634, chars=[28,30], words=[8,8]), Span(\"Lana\", sentence=29634, chars=[40,43], words=[12,12])), Spouse(Span(\"Donald Trump\", sentence=28941, chars=[81,92], words=[20,21]), Span(\"Fiorina\", sentence=28941, chars=[64,70], words=[17,17])), Spouse(Span(\"Peter Cooney\", sentence=29711, chars=[42,53], words=[12,13]), Span(\"Jeff Mason\", sentence=29711, chars=[19,28], words=[7,8])), Spouse(Span(\"Holly Hagan\", sentence=29630, chars=[25,35], words=[5,6]), Span(\"Marnie Simpson\", sentence=29630, chars=[41,54], words=[8,9])), Spouse(Span(\"Sheena Bora\", sentence=29919, chars=[215,225], words=[40,41]), Span(\"Sheena\", sentence=29919, chars=[22,27], words=[5,5])), Spouse(Span(\"Susan Heavey\", sentence=30086, chars=[56,67], words=[13,14]), Span(\"Bill Rigby\", sentence=30086, chars=[101,110], words=[21,22])), Spouse(Span(\"Vijaya Bhaskar\", sentence=29191, chars=[0,13], words=[0,1]), Span(\"Rangan\", sentence=29191, chars=[42,47], words=[11,11])), Spouse(Span(\"Castro\", sentence=29650, chars=[85,90], words=[15,15]), Span(\"Lansky\", sentence=29650, chars=[117,122], words=[21,21])), Spouse(Span(\"Alex McCord\", sentence=29455, chars=[18,28], words=[4,5]), Span(\"Alex\", sentence=29455, chars=[211,214], words=[45,45])), Spouse(Span(\"Ed Levinson\", sentence=29649, chars=[89,99], words=[16,17]), Span(\"Lansky\", sentence=29649, chars=[60,65], words=[12,12])), Spouse(Span(\"Carlos Marcello\", sentence=29647, chars=[101,115], words=[18,19]), Span(\"Lansky\", sentence=29647, chars=[58,63], words=[10,10])), Spouse(Span(\"Kennedy Sr.\", sentence=29644, chars=[223,233], words=[43,44]), Span(\"Lansky\", sentence=29644, chars=[162,167], words=[33,33])), Spouse(Span(\"Carly Fiorina\", sentence=30065, chars=[51,63], words=[15,16]), Span(\"Colbert\", sentence=30065, chars=[18,24], words=[7,7])), Spouse(Span(\"Trump\", sentence=28949, chars=[137,141], words=[26,26]), Span(\"Trump\", sentence=28949, chars=[17,21], words=[5,5])), Spouse(Span(\"Kakki Sattai\", sentence=29221, chars=[85,96], words=[13,14]), Span(\"Sivakarthikeyan\", sentence=29221, chars=[67,81], words=[11,11])), Spouse(Span(\"Boehner\", sentence=30145, chars=[132,138], words=[33,33]), Span(\"Boehner\", sentence=30145, chars=[54,60], words=[11,11])), Spouse(Span(\"Holly Hagan\", sentence=29630, chars=[25,35], words=[5,6]), Span(\"Ian West/PA\", sentence=29630, chars=[57,67], words=[11,12])), Spouse(Span(\"Gibson\", sentence=28858, chars=[35,40], words=[11,11]), Span(\"Lawrence Hundersmarck\", sentence=28858, chars=[203,223], words=[36,37])), Spouse(Span(\"Susan Heavey\", sentence=30086, chars=[56,67], words=[13,14]), Span(\"Alistair Bell\", sentence=30086, chars=[17,29], words=[7,8])), Spouse(Span(\"Isabella\", sentence=28965, chars=[112,119], words=[24,24]), Span(\"Luciana\", sentence=28965, chars=[168,174], words=[39,39])), Spouse(Span(\"Lawrence F. Hundersmarck\", sentence=28871, chars=[44,67], words=[8,10]), Span(\"Laurence Hundersmarck\", sentence=28871, chars=[11,31], words=[4,5])), Spouse(Span(\"Lansky\", sentence=29669, chars=[175,180], words=[33,33]), Span(\"John F. Kennedy\", sentence=29669, chars=[41,55], words=[9,11])), Spouse(Span(\"Cindy Barshop\", sentence=29436, chars=[119,131], words=[24,25]), Span(\"Kelly Bensimon\", sentence=29436, chars=[99,112], words=[20,21])), Spouse(Span(\"Kennedy Sr.\", sentence=29644, chars=[223,233], words=[43,44]), Span(\"Joseph P. Kennedy\", sentence=29644, chars=[37,53], words=[8,10])), Spouse(Span(\"Barack Obama\", sentence=29908, chars=[121,132], words=[21,22]), Span(\"Xi Jinping\", sentence=29908, chars=[10,19], words=[1,2])), Spouse(Span(\"Alex\", sentence=29455, chars=[74,77], words=[18,18]), Span(\"Alex\", sentence=29455, chars=[211,214], words=[45,45])), Spouse(Span(\"Lansky\", sentence=29669, chars=[175,180], words=[33,33]), Span(\"LANSKY\", sentence=29669, chars=[24,29], words=[7,7])), Spouse(Span(\"Kennedy\", sentence=29686, chars=[35,41], words=[7,7]), Span(\"Ben-Gurion\", sentence=29686, chars=[98,107], words=[17,17])), Spouse(Span(\"Ian West/PA\", sentence=29634, chars=[83,93], words=[22,23]), Span(\"Lana\", sentence=29634, chars=[40,43], words=[12,12])), Spouse(Span(\"Sam J. Jones\", sentence=29087, chars=[72,83], words=[13,15]), Span(\"Max vonSydow\", sentence=29087, chars=[192,203], words=[37,38])), Spouse(Span(\"Francois\", sentence=29471, chars=[111,118], words=[26,26]), Span(\"Johan\", sentence=29471, chars=[129,133], words=[31,31])), Spouse(Span(\"Lopez\", sentence=29611, chars=[0,4], words=[0,0]), Span(\"Isabella\", sentence=29611, chars=[148,155], words=[33,33])), Spouse(Span(\"Marnie Simpson\", sentence=29630, chars=[41,54], words=[8,9]), Span(\"Ian West/PA\", sentence=29630, chars=[57,67], words=[11,12])), Spouse(Span(\"Kennedy\", sentence=29689, chars=[103,109], words=[21,21]), Span(\"Shamir\", sentence=29689, chars=[0,5], words=[0,0])), Spouse(Span(\"Bill Rigby\", sentence=30086, chars=[101,110], words=[21,22]), Span(\"Alistair Bell\", sentence=30086, chars=[17,29], words=[7,8])), Spouse(Span(\"Tom\", sentence=29634, chars=[28,30], words=[8,8]), Span(\"Laura\", sentence=29634, chars=[33,37], words=[10,10])), Spouse(Span(\"Mohammed Fahad Al-Harthi\", sentence=29927, chars=[45,68], words=[11,13]), Span(\"Salman\", sentence=29927, chars=[142,147], words=[29,29])), Spouse(Span(\"Johnson\", sentence=29648, chars=[40,46], words=[6,6]), Span(\"Bobby Baker\", sentence=29648, chars=[89,99], words=[15,16])), Spouse(Span(\"Simon\", sentence=29463, chars=[12,16], words=[3,3]), Span(\"Alex\", sentence=29463, chars=[27,30], words=[8,8])), Spouse(Span(\"Sheena\", sentence=29919, chars=[22,27], words=[5,5]), Span(\"Khanna\", sentence=29919, chars=[56,61], words=[10,10])), Spouse(Span(\"Obama\", sentence=29984, chars=[50,54], words=[12,12]), Span(\"Cameron\", sentence=29984, chars=[11,17], words=[4,4])), Spouse(Span(\"Alex\", sentence=29437, chars=[1,4], words=[1,1]), Span(\"Simon\", sentence=29437, chars=[45,49], words=[14,14])), Spouse(Span(\"Kim Davis\", sentence=28893, chars=[23,31], words=[6,7]), Span(\"David Bunning\", sentence=28893, chars=[111,123], words=[22,23])), Spouse(Span(\"Meyer Lansky\", sentence=29672, chars=[231,242], words=[42,43]), Span(\"Sam Giancana\", sentence=29672, chars=[61,72], words=[14,15])), Spouse(Span(\"Hoover\", sentence=29664, chars=[3,8], words=[1,1]), Span(\"John F. Kennedy\", sentence=29664, chars=[64,78], words=[11,13])), Spouse(Span(\"Robert Kennedy\", sentence=29641, chars=[29,42], words=[4,5]), Span(\"Meyer\", sentence=29641, chars=[72,76], words=[11,11])), Spouse(Span(\"Lopez\", sentence=29611, chars=[185,189], words=[41,41]), Span(\"Isabella\", sentence=29611, chars=[148,155], words=[33,33])), Spouse(Span(\"Jack Pack\", sentence=29632, chars=[66,74], words=[15,16]), Span(\"Chloe Goodman\", sentence=29632, chars=[21,33], words=[5,6])), Spouse(Span(\"Flo\", sentence=30096, chars=[274,276], words=[58,58]), Span(\"Scott Karolchyk\", sentence=30096, chars=[202,216], words=[46,47])), Spouse(Span(\"Lansky\", sentence=29644, chars=[125,130], words=[25,25]), Span(\"Joseph P. Kennedy\", sentence=29644, chars=[37,53], words=[8,10])), Spouse(Span(\"Alex\", sentence=29475, chars=[34,37], words=[5,5]), Span(\"Simon\", sentence=29475, chars=[24,28], words=[3,3])), Spouse(Span(\"Kevin Rudd\", sentence=29033, chars=[13,22], words=[5,6]), Span(\"Julia Gillard\", sentence=29033, chars=[106,118], words=[24,25])), Spouse(Span(\"Hoover\", sentence=29662, chars=[0,5], words=[0,0]), Span(\"Lansky\", sentence=29662, chars=[62,67], words=[13,13])), Spouse(Span(\"Ian West/PA\", sentence=29632, chars=[36,46], words=[8,9]), Span(\"Megan McKenna\", sentence=29632, chars=[3,15], words=[2,3])), Spouse(Span(\"Colbert\", sentence=30066, chars=[89,95], words=[18,18]), Span(\"Xi Jinping\", sentence=30066, chars=[77,86], words=[15,16])), Spouse(Span(\"Gibson\", sentence=28858, chars=[35,40], words=[11,11]), Span(\"Lawrence Hundersmarck\", sentence=28858, chars=[384,404], words=[73,74])), Spouse(Span(\"Bravo\", sentence=29437, chars=[107,111], words=[25,25]), Span(\"Alex\", sentence=29437, chars=[1,4], words=[1,1])), Spouse(Span(\"Donald Trump\", sentence=29247, chars=[103,114], words=[16,17]), Span(\"Rand Paul\", sentence=29247, chars=[130,138], words=[22,23])), Spouse(Span(\"Michael Collins Piper\", sentence=29635, chars=[60,80], words=[9,11]), Span(\"John F. Kennedy\", sentence=29635, chars=[170,184], words=[28,30])), Spouse(Span(\"Meegan\", sentence=29106, chars=[122,127], words=[20,20]), Span(\"Andre\", sentence=29106, chars=[133,137], words=[22,22])), Spouse(Span(\"Robert\", sentence=29660, chars=[135,140], words=[24,24]), Span(\"Kennedy\", sentence=29660, chars=[12,18], words=[2,2])), Spouse(Span(\"Sheena\", sentence=29919, chars=[22,27], words=[5,5]), Span(\"Sanjeev Khanna\", sentence=29919, chars=[167,180], words=[32,33])), Spouse(Span(\"Schumer\", sentence=30082, chars=[143,149], words=[25,25]), Span(\"Rob Portman\", sentence=30082, chars=[178,188], words=[31,32])), Spouse(Span(\"Schmit\", sentence=28996, chars=[32,37], words=[10,10]), Span(\"Joe\", sentence=28996, chars=[96,98], words=[22,22])), Spouse(Span(\"Alex\", sentence=29471, chars=[84,87], words=[19,19]), Span(\"Francois\", sentence=29471, chars=[111,118], words=[26,26])), Spouse(Span(\"Khanna\", sentence=29920, chars=[13,18], words=[2,2]), Span(\"Narendra Modi\", sentence=29920, chars=[245,257], words=[48,49])), Spouse(Span(\"Harrison Barnes\", sentence=29994, chars=[124,138], words=[24,25]), Span(\"Harrison\", sentence=29994, chars=[161,168], words=[31,31])), Spouse(Span(\"Gillard\", sentence=29034, chars=[0,6], words=[0,0]), Span(\"Rudd\", sentence=29034, chars=[31,34], words=[6,6])), Spouse(Span(\"Sheena Bora\", sentence=29919, chars=[215,225], words=[40,41]), Span(\"Sanjeev Khanna\", sentence=29919, chars=[167,180], words=[32,33])), Spouse(Span(\"Dean Yates\", sentence=29035, chars=[82,91], words=[24,25]), Span(\"Jane Wardell\", sentence=29035, chars=[57,68], words=[19,20])), Spouse(Span(\"Laura Bush\", sentence=30059, chars=[63,72], words=[13,14]), Span(\"Obama\", sentence=30059, chars=[36,40], words=[8,8])), Spouse(Span(\"Johnson\", sentence=29670, chars=[210,216], words=[35,35]), Span(\"Hoover\", sentence=29670, chars=[192,197], words=[31,31])), Spouse(Span(\"Flanagan\", sentence=29614, chars=[32,39], words=[9,9]), Span(\"Wight\", sentence=29614, chars=[10,14], words=[4,4])), Spouse(Span(\"Harrison Barnes\", sentence=29994, chars=[124,138], words=[24,25]), Span(\"Steve Kerr\", sentence=29994, chars=[44,53], words=[9,10])), Spouse(Span(\"Monroe\", sentence=29675, chars=[31,36], words=[5,5]), Span(\"JFK\", sentence=29675, chars=[159,161], words=[31,31])), Spouse(Span(\"Ian West/PA\", sentence=29634, chars=[83,93], words=[22,23]), Span(\"Tom\", sentence=29634, chars=[28,30], words=[8,8])), Spouse(Span(\"Chloe Goodman\", sentence=29632, chars=[21,33], words=[5,6]), Span(\"Ian West/PA\", sentence=29632, chars=[36,46], words=[8,9])), Spouse(Span(\"Lana\", sentence=29634, chars=[40,43], words=[12,12]), Span(\"Laura\", sentence=29634, chars=[33,37], words=[10,10])), Spouse(Span(\"Alex\", sentence=29442, chars=[43,46], words=[7,7]), Span(\"Simon\", sentence=29442, chars=[52,56], words=[9,9])), Spouse(Span(\"Khanna\", sentence=29920, chars=[13,18], words=[2,2]), Span(\"Modi\", sentence=29920, chars=[58,61], words=[12,12])), Spouse(Span(\"Kevin Rudd\", sentence=29033, chars=[13,22], words=[5,6]), Span(\"Abbott\", sentence=29033, chars=[169,174], words=[37,37])), Spouse(Span(\"Donald Trump\", sentence=29247, chars=[103,114], words=[16,17]), Span(\"Jeb Bush\", sentence=29247, chars=[117,124], words=[19,20])), Spouse(Span(\"Colbert\", sentence=30067, chars=[0,6], words=[0,0]), Span(\"Francois Hollande\", sentence=30067, chars=[67,83], words=[11,12])), Spouse(Span(\"St. Paul\", sentence=28863, chars=[107,114], words=[19,20]), Span(\"James Woodward Strong\", sentence=28863, chars=[150,170], words=[29,31])), Spouse(Span(\"Kennedy\", sentence=29680, chars=[57,63], words=[11,11]), Span(\"David Ben-Gurion\", sentence=29680, chars=[241,256], words=[19,20])), Spouse(Span(\"Alex\", sentence=29471, chars=[84,87], words=[19,19]), Span(\"Simon\", sentence=29471, chars=[93,97], words=[21,21])), Spouse(Span(\"Turnbull\", sentence=29023, chars=[86,93], words=[18,18]), Span(\"Tony Abbott\", sentence=29023, chars=[44,54], words=[10,11])), Spouse(Span(\"Chloe Goodman\", sentence=29632, chars=[21,33], words=[5,6]), Span(\"Megan McKenna\", sentence=29632, chars=[3,15], words=[2,3])), Spouse(Span(\"Kennedy\", sentence=29695, chars=[82,88], words=[15,15]), Span(\"Ben-Gurion\", sentence=29695, chars=[58,67], words=[11,11])), Spouse(Span(\"Mordecai\", sentence=29713, chars=[12,19], words=[4,4]), Span(\"Abraham Joshua Heschel\", sentence=29713, chars=[132,153], words=[25,27])), Spouse(Span(\"Casey Hushon\", sentence=29268, chars=[0,11], words=[0,1]), Span(\"Orwig\", sentence=29268, chars=[54,58], words=[9,9])), Spouse(Span(\"Sussanne\", sentence=28979, chars=[12,19], words=[2,2]), Span(\"Hrehaan\", sentence=28979, chars=[59,65], words=[11,11])), Spouse(Span(\"Ram Vilas Paswan\", sentence=29914, chars=[40,55], words=[8,10]), Span(\"Ram Vilas Paswan\", sentence=29914, chars=[287,302], words=[56,58])), Spouse(Span(\"Rajyavardhan Rathore\", sentence=29922, chars=[144,163], words=[26,27]), Span(\"Dawood Ibrahim\", sentence=29922, chars=[252,265], words=[43,44])), Spouse(Span(\"Modi\", sentence=29920, chars=[58,61], words=[12,12]), Span(\"Narendra Modi\", sentence=29920, chars=[245,257], words=[48,49])), Spouse(Span(\"Lyndon Johnson\", sentence=29670, chars=[15,28], words=[2,3]), Span(\"Hoover\", sentence=29670, chars=[192,197], words=[31,31])), Spouse(Span(\"Andy Lu\", sentence=29590, chars=[189,195], words=[39,40]), Span(\"Matthew Lakejev\", sentence=29590, chars=[235,249], words=[46,47])), Spouse(Span(\"Barack Obama\", sentence=30139, chars=[76,87], words=[20,21]), Span(\"Nancy Pelosi\", sentence=30139, chars=[24,35], words=[9,10])), Spouse(Span(\"Abbott\", sentence=29034, chars=[62,67], words=[12,12]), Span(\"Rudd\", sentence=29034, chars=[31,34], words=[6,6])), Spouse(Span(\"Hail Mary\", sentence=30151, chars=[50,58], words=[15,16]), Span(\"Woody Hayes\", sentence=30151, chars=[77,87], words=[22,23])), Spouse(Span(\"Haman\", sentence=29695, chars=[103,107], words=[19,19]), Span(\"Kennedy\", sentence=29695, chars=[82,88], words=[15,15])), Spouse(Span(\"Lopez\", sentence=29611, chars=[0,4], words=[0,0]), Span(\"Lopez\", sentence=29611, chars=[185,189], words=[41,41])), Spouse(Span(\"Adam van Kempen\", sentence=29469, chars=[189,203], words=[33,35]), Span(\"Byron Bay\", sentence=29469, chars=[236,244], words=[41,42])), Spouse(Span(\"Kristian Justice\", sentence=29704, chars=[74,89], words=[17,18]), Span(\"Kaylah Hunter\", sentence=29704, chars=[18,30], words=[3,4])), Spouse(Span(\"Charles Joseph Gliniewicz\", sentence=28982, chars=[3,27], words=[1,3]), Span(\"Lr Charles Joseph\", sentence=28982, chars=[0,16], words=[0,2])), Spouse(Span(\"Max von Sydow\", sentence=29075, chars=[38,50], words=[9,11]), Span(\"Ming\", sentence=29075, chars=[32,35], words=[7,7])), Spouse(Span(\"Cameron\", sentence=29984, chars=[11,17], words=[4,4]), Span(\"Aamer\", sentence=29984, chars=[29,33], words=[7,7])), Spouse(Span(\"John Dickerson\", sentence=30127, chars=[21,34], words=[4,5]), Span(\"Boehner\", sentence=30127, chars=[165,171], words=[33,33])), Spouse(Span(\"Simon Kimani\", sentence=29168, chars=[161,172], words=[34,35]), Span(\"Simon Kimani\", sentence=29168, chars=[67,78], words=[16,17])), Spouse(Span(\"Andy Lu\", sentence=29590, chars=[189,195], words=[39,40]), Span(\"Percy\", sentence=29590, chars=[150,154], words=[30,30])), Spouse(Span(\"Emily Flitter\", sentence=30072, chars=[56,68], words=[15,16]), Span(\"Donald Trump\", sentence=30072, chars=[133,144], words=[29,30])), Spouse(Span(\"Kevin Drawbaugh\", sentence=30086, chars=[81,95], words=[18,19]), Span(\"Susan Heavey\", sentence=30086, chars=[56,67], words=[13,14])), Spouse(Span(\"Colbert\", sentence=30066, chars=[89,95], words=[18,18]), Span(\"Obama\", sentence=30066, chars=[126,130], words=[24,24])), Spouse(Span(\"Trump\", sentence=28949, chars=[46,50], words=[12,12]), Span(\"Trump\", sentence=28949, chars=[137,141], words=[26,26])), Spouse(Span(\"Anna Kooiman\", sentence=29249, chars=[130,141], words=[28,29]), Span(\"Fox\", sentence=29249, chars=[111,113], words=[24,24])), Spouse(Span(\"Gillard\", sentence=29034, chars=[0,6], words=[0,0]), Span(\"Abbott\", sentence=29034, chars=[62,67], words=[12,12])), Spouse(Span(\"Fiorina\", sentence=28951, chars=[10,16], words=[4,4]), Span(\"Carly Fiorina\", sentence=28951, chars=[89,101], words=[18,19])), Spouse(Span(\"Joe Hockey\", sentence=29028, chars=[81,90], words=[15,16]), Span(\"Scott Morrison\", sentence=29028, chars=[211,224], words=[38,39])), Spouse(Span(\"Bobby Baker\", sentence=29648, chars=[89,99], words=[15,16]), Span(\"Kennedy\", sentence=29648, chars=[4,10], words=[1,1])), Spouse(Span(\"Yennai Arindhaal\", sentence=29221, chars=[8,23], words=[2,3]), Span(\"Ajith\", sentence=29221, chars=[0,4], words=[0,0])), Spouse(Span(\"Flash\", sentence=29078, chars=[98,102], words=[20,20]), Span(\"Dale\", sentence=29078, chars=[41,44], words=[7,7])), Spouse(Span(\"Ming\", sentence=29078, chars=[54,57], words=[9,9]), Span(\"Dale\", sentence=29078, chars=[41,44], words=[7,7])), Spouse(Span(\"Matthew Lakejev\", sentence=29590, chars=[235,249], words=[46,47]), Span(\"Percy\", sentence=29590, chars=[150,154], words=[30,30])), Spouse(Span(\"Ian West/PA\", sentence=29634, chars=[83,93], words=[22,23]), Span(\"Laura\", sentence=29634, chars=[33,37], words=[10,10]))])\n"
     ]
    }
   ],
   "source": [
    "print(fp)"
   ]
  },
  {
   "cell_type": "markdown",
   "metadata": {},
   "source": [
    "You've completed the introduction to Snorkel!"
   ]
  }
 ],
 "metadata": {
  "anaconda-cloud": {},
  "kernelspec": {
   "display_name": "Python [default]",
   "language": "python",
   "name": "python2"
  },
  "language_info": {
   "codemirror_mode": {
    "name": "ipython",
    "version": 2
   },
   "file_extension": ".py",
   "mimetype": "text/x-python",
   "name": "python",
   "nbconvert_exporter": "python",
   "pygments_lexer": "ipython2",
   "version": "2.7.12"
  },
  "widgets": {
   "state": {
    "9e6c7154bcf14c308df57dae8d47b0a1": {
     "views": [
      {
       "cell_index": 18
      }
     ]
    }
   },
   "version": "1.2.0"
  }
 },
 "nbformat": 4,
 "nbformat_minor": 0
}
